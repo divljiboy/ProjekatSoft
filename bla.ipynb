{
 "cells": [
  {
   "cell_type": "code",
   "execution_count": 23,
   "metadata": {
    "collapsed": false
   },
   "outputs": [],
   "source": [
    "import numpy as np\n",
    "import cv2\n",
    "import time\n",
    "from matplotlib import pyplot as plt\n",
    "from PIL import Image\n",
    "\n",
    "\n",
    "face_cascade = cv2.CascadeClassifier('haarcascade_frontalface_default.xml')\n",
    "eye_cascade = cv2.CascadeClassifier('haarcascade_eye.xml')\n",
    "def display_image(image, color= False):\n",
    "    if color:\n",
    "        plt.imshow(image)\n",
    "    else:\n",
    "        plt.imshow(image, 'gray')\n",
    "def image_gray(image):\n",
    "    return cv2.cvtColor(image, cv2.COLOR_RGB2GRAY)\n",
    "def image_bin(image_gs):\n",
    "    ret,image_bin = cv2.threshold(image_gs, 100, 255, cv2.THRESH_BINARY)\n",
    "    return image_bin\n",
    "def image_bin_adaptive(image_gs):\n",
    "    image_bin = cv2.adaptiveThreshold(image_gs, 255, cv2.ADAPTIVE_THRESH_MEAN_C, cv2.THRESH_BINARY, 35, 10)\n",
    "    return image_bin\n",
    "def dilate(image):\n",
    "    kernel = np.ones((3,3)) # strukturni element 3x3 blok\n",
    "    return cv2.dilate(image, kernel, iterations=1)\n",
    "def erode(image):\n",
    "    kernel = np.ones((3,3)) # strukturni element 3x3 blok\n",
    "    return cv2.erode(image, kernel, iterations=1)\n",
    "def remove_noise(binary_image):\n",
    "    ret_val = erode(dilate(binary_image))\n",
    "    ret_val = invert(ret_val)\n",
    "    return ret_val\n",
    "def invert(image):\n",
    "    return 255-image"
   ]
  },
  {
   "cell_type": "code",
   "execution_count": 24,
   "metadata": {
    "collapsed": true
   },
   "outputs": [],
   "source": [
    "def draw_hand_rect(self, frame):  \n",
    "    rows,cols,_ = frame.shape\n",
    "\n",
    "    self.hand_row_nw = np.array([6*rows/20,6*rows/20,6*rows/20,10*rows/20,10*rows/20,10*rows/20,14*rows/20,14*rows/20,14*rows/20])\n",
    "\n",
    "    self.hand_col_nw = np.array([9*cols/20,10*cols/20,11*cols/20,9*cols/20,10*cols/20,11*cols/20,9*cols/20,10*cols/20,11*cols/20])\n",
    "\n",
    "    self.hand_row_se = self.hand_row_nw + 10\n",
    "    self.hand_col_se = self.hand_col_nw + 10\n",
    "\n",
    "    size = self.hand_row_nw.size\n",
    "    for i in xrange(size):\n",
    "        cv2.rectangle(frame,(self.hand_col_nw[i],self.hand_row_nw[i]),(self.hand_col_se[i],self.hand_row_se[i]),(0,255,0),1)\n",
    "        \n",
    "        \n",
    "\n",
    "    return frame"
   ]
  },
  {
   "cell_type": "code",
   "execution_count": null,
   "metadata": {
    "collapsed": true
   },
   "outputs": [],
   "source": []
  },
  {
   "cell_type": "code",
   "execution_count": 25,
   "metadata": {
    "collapsed": false
   },
   "outputs": [],
   "source": [
    "def getColorSquare(self, frame):\n",
    "    size = self.hand_row_nw.size\n",
    "    #for i in range(0,size):\n",
    "    box =frame[self.hand_col_nw[0]:self.hand_col_se[0], self.hand_row_nw[0]:self.hand_row_se[0]]\n",
    "    box1 =frame[self.hand_col_nw[1]:self.hand_col_se[1], self.hand_row_nw[1]:self.hand_row_se[1]]\n",
    "    box2 =frame[self.hand_col_nw[2]:self.hand_col_se[2], self.hand_row_nw[2]:self.hand_row_se[2]]\n",
    "    box3 =frame[self.hand_col_nw[3]:self.hand_col_se[3], self.hand_row_nw[3]:self.hand_row_se[3]]\n",
    "    box4 =frame[self.hand_col_nw[4]:self.hand_col_se[4], self.hand_row_nw[4]:self.hand_row_se[4]]\n",
    "    box5 =frame[self.hand_col_nw[5]:self.hand_col_se[5], self.hand_row_nw[5]:self.hand_row_se[5]]\n",
    "    box6 =frame[self.hand_col_nw[6]:self.hand_col_se[6], self.hand_row_nw[6]:self.hand_row_se[6]]\n",
    "    box7 =frame[self.hand_col_nw[7]:self.hand_col_se[7], self.hand_row_nw[7]:self.hand_row_se[7]]\n",
    "    box8 =frame[self.hand_col_nw[8]:self.hand_col_se[8], self.hand_row_nw[8]:self.hand_row_se[8]]    \n",
    "  \n",
    "    return box,box1,box2,box3,box4,box5,box6,box7,box8"
   ]
  },
  {
   "cell_type": "code",
   "execution_count": 26,
   "metadata": {
    "collapsed": false
   },
   "outputs": [],
   "source": [
    "def minmaxvalue(box):\n",
    "    \n",
    "    box1=np.array(box)\n",
    "    minr=box1[..., 0].min()\n",
    "    maxr=box1[..., 0].max()\n",
    "    # green\n",
    "    ming=box1[..., 1].min()\n",
    "    maxg=box1[..., 1].max()\n",
    "    # blue\n",
    "    minb=box1[..., 2].min()\n",
    "    maxb=box1[..., 2].max()\n",
    "    print minr,ming,minb,maxr,maxg,maxb\n",
    "    return  minr,ming,minb,maxr,maxg,maxb"
   ]
  },
  {
   "cell_type": "code",
   "execution_count": null,
   "metadata": {
    "collapsed": true
   },
   "outputs": [],
   "source": []
  },
  {
   "cell_type": "code",
   "execution_count": null,
   "metadata": {
    "collapsed": true
   },
   "outputs": [],
   "source": []
  },
  {
   "cell_type": "code",
   "execution_count": null,
   "metadata": {
    "collapsed": true
   },
   "outputs": [],
   "source": []
  },
  {
   "cell_type": "code",
   "execution_count": 28,
   "metadata": {
    "collapsed": false
   },
   "outputs": [
    {
     "name": "stdout",
     "output_type": "stream",
     "text": [
      "0 0 44 0 19 102\n",
      "0 24 107 0 48 138\n",
      "0 47 141 0 70 185\n",
      "9 64 164 32 71 178\n",
      "0 2 108 3 37 147\n",
      "0 29 114 8 56 143\n",
      "0 64 168 1 76 183\n",
      "0 65 169 0 77 181\n",
      "0 60 162 10 78 174\n"
     ]
    }
   ],
   "source": [
    "cap = cv2.VideoCapture(1)\n",
    "\n",
    "class self(object):\n",
    "    hand_row_nw = np.array((1,6))\n",
    "    hand_col_nw = np.array((1,6))\n",
    "    hand_row_se = np.array((1,6))\n",
    "    hand_col_se = np.array((1,6))\n",
    "\n",
    "lista = [None] * 9\n",
    "kraj=False\n",
    "while(1):\n",
    "    \n",
    "    ret, frame = cap.read()\n",
    "    if kraj==False:\n",
    "        frame=draw_hand_rect(self,frame)\n",
    "        cv2.imshow('frame',frame)   \n",
    "        \n",
    "    else:\n",
    "        hsv = cv2.cvtColor(frame, cv2.COLOR_BGR2HSV)\n",
    "        cv2.imshow('frame23',hsv)\n",
    "        lower_blue = np.array([minb0,ming0,minr0])\n",
    "        upper_blue = np.array([maxb0,maxg0,maxr0])\n",
    "        mask0 = cv2.inRange(hsv, lower_blue,upper_blue)\n",
    "       \n",
    "        lower_blue = np.array([minr1,ming1,minb1])\n",
    "        upper_blue = np.array([maxr1,maxg1,maxb1])\n",
    "        mask1 = cv2.inRange(hsv, lower_blue, upper_blue)\n",
    "        \n",
    "        lower_blue = np.array([minr2,ming2,minb2])\n",
    "        upper_blue = np.array([maxr2,maxg2,maxb2])\n",
    "        mask2 = cv2.inRange(hsv, lower_blue, upper_blue)\n",
    "        \n",
    "        lower_blue = np.array([minr3,ming3,minb3])\n",
    "        upper_blue = np.array([maxr3,maxg3,maxb3])\n",
    "        mask3 = cv2.inRange(hsv, lower_blue, upper_blue)\n",
    "        \n",
    "        lower_blue = np.array([minr4,ming4,minb4])\n",
    "        upper_blue = np.array([maxr4,maxg4,maxb4])\n",
    "        mask4 = cv2.inRange(hsv, lower_blue, upper_blue)\n",
    "        \n",
    "        lower_blue = np.array([minr5,ming5,minb5])\n",
    "        upper_blue = np.array([maxr5,maxg5,maxb5])\n",
    "        mask5 = cv2.inRange(hsv, lower_blue, upper_blue)\n",
    "        \n",
    "        lower_blue = np.array([minr6,ming6,minb6])\n",
    "        upper_blue = np.array([maxr6,maxg6,maxb6])\n",
    "        mask6 = cv2.inRange(hsv, lower_blue, upper_blue)\n",
    "        \n",
    "        lower_blue = np.array([minr7,ming7,minb7])\n",
    "        upper_blue = np.array([maxr7,maxg7,maxb7])\n",
    "        mask7 = cv2.inRange(hsv, lower_blue, upper_blue)\n",
    "        \n",
    "        lower_blue = np.array([minr8,ming8,minb8])\n",
    "        upper_blue = np.array([maxr8,maxg8,maxb8])\n",
    "        mask8 = cv2.inRange(hsv, lower_blue, upper_blue)\n",
    "        \n",
    "        lower_blue = np.array([110,50,50])\n",
    "        upper_blue = np.array([130,255,255])\n",
    "        mask10 = cv2.inRange(hsv, lower_blue,upper_blue)\n",
    "        \n",
    "        final=mask10\n",
    "        cv2.imshow('frame',frame)\n",
    "        cv2.imshow('frameeee',final)   \n",
    "        \n",
    "        \n",
    "   \n",
    "    \n",
    "    if cv2.waitKey(1) & 0xFF == ord('b'):\n",
    "        kraj=True\n",
    "        box,box1,box2,box3,box4,box5,box6,box7,box8=getColorSquare(self,frame)\n",
    "        minr0,ming0,minb0,maxr0,maxg0,maxb0=minmaxvalue(box)\n",
    "        minr1,ming1,minb1,maxr1,maxg1,maxb1=minmaxvalue(box1)\n",
    "        minr2,ming2,minb2,maxr2,maxg2,maxb2=minmaxvalue(box2)\n",
    "        minr3,ming3,minb3,maxr3,maxg3,maxb3=minmaxvalue(box3)\n",
    "        minr4,ming4,minb4,maxr4,maxg4,maxb4=minmaxvalue(box4)\n",
    "        minr5,ming5,minb5,maxr5,maxg5,maxb5=minmaxvalue(box5)\n",
    "        minr6,ming6,minb6,maxr6,maxg6,maxb6=minmaxvalue(box6)\n",
    "        minr7,ming7,minb7,maxr7,maxg7,maxb7=minmaxvalue(box7)\n",
    "        minr8,ming8,minb8,maxr8,maxg8,maxb8=minmaxvalue(box8)\n",
    "        \n",
    "    \n",
    "    if cv2.waitKey(1) & 0xFF == ord('q'):\n",
    "           break\n",
    "            \n",
    "    \n",
    "\n",
    "#print self.hand_row_nw\n",
    "#plt.hist(self.hand_hist.ravel(),256,[0,256]); plt.show()\n",
    "#color = ('b','g','r')\n",
    "#for i,col in enumerate(color):\n",
    "#    histr = cv2.calcHist([frame],[i],None,[256],[0,256])\n",
    "#    plt.plot(self.hand_hist,color = col)\n",
    "#    plt.xlim([0,256])\n",
    "#plt.show()   \n",
    "    \n",
    "    \n",
    "\n",
    "#while(1):q\n",
    "   # ret, frame = cap.read()\n",
    "\n",
    "    #res=apply_hist_mask(frame, self.hand_hist) \n",
    "    #draw_final(self, frame,res) \n",
    "    #cv2.imshow('as',res)\n",
    "    #cv2.imshow('frame',frame)\n",
    "    #if cv2.waitKey(1) & 0xFF == ord('q'):\n",
    "        #break\n",
    " \n",
    "cap.release()\n",
    "cv2.destroyAllWindows()"
   ]
  },
  {
   "cell_type": "code",
   "execution_count": null,
   "metadata": {
    "collapsed": true
   },
   "outputs": [],
   "source": []
  },
  {
   "cell_type": "code",
   "execution_count": null,
   "metadata": {
    "collapsed": true
   },
   "outputs": [],
   "source": []
  },
  {
   "cell_type": "code",
   "execution_count": null,
   "metadata": {
    "collapsed": true
   },
   "outputs": [],
   "source": []
  }
 ],
 "metadata": {
  "kernelspec": {
   "display_name": "Python 2",
   "language": "python",
   "name": "python2"
  },
  "language_info": {
   "codemirror_mode": {
    "name": "ipython",
    "version": 2
   },
   "file_extension": ".py",
   "mimetype": "text/x-python",
   "name": "python",
   "nbconvert_exporter": "python",
   "pygments_lexer": "ipython2",
   "version": "2.7.10"
  }
 },
 "nbformat": 4,
 "nbformat_minor": 0
}
