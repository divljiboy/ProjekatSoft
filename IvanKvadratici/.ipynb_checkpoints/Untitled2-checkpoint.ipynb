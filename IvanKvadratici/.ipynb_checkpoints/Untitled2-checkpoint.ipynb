{
 "cells": [
  {
   "cell_type": "code",
   "execution_count": 1,
   "metadata": {
    "collapsed": false
   },
   "outputs": [
    {
     "name": "stdout",
     "output_type": "stream",
     "text": [
      "Using Theano backend.\n"
     ]
    }
   ],
   "source": [
    "import numpy as np\n",
    "import cv2\n",
    "import time\n",
    "from matplotlib import pyplot as plt\n",
    "from PIL import Image\n",
    "%matplotlib inline\n",
    "kernel = cv2.getStructuringElement(cv2.MORPH_ELLIPSE,(1,1))\n",
    "    \n",
    "#import potrebnih biblioteka\n",
    "\n",
    "import collections\n",
    "\n",
    "# keras\n",
    "from keras.models import Sequential\n",
    "from keras.layers.core import Dense,Activation\n",
    "from keras.optimizers import SGD\n",
    "\n",
    "import matplotlib.pylab as pylab\n",
    "pylab.rcParams['figure.figsize'] = 16, 12 # za prikaz većih slika i plotova, zakomentarisati ako nije potrebno\n",
    "\n",
    "#Funkcionalnost implementirana u V1\n",
    "def load_image(path):\n",
    "    return cv2.cvtColor(cv2.imread(path), cv2.COLOR_BGR2RGB)\n",
    "def image_gray(image):\n",
    "    return cv2.cvtColor(image, cv2.COLOR_RGB2GRAY)\n",
    "def image_bin(image_gs):\n",
    "    ret,image_bin = cv2.threshold(image_gs, 127, 255, cv2.THRESH_BINARY)\n",
    "    return image_bin\n",
    "def invert(image):\n",
    "    return 255-image\n",
    "def display_image(image, color= False):\n",
    "    if color:\n",
    "        plt.imshow(image)\n",
    "    else:\n",
    "        plt.imshow(image, 'gray')\n",
    "def dilate(image):\n",
    "    kernel = np.ones((3,3)) # strukturni element 3x3 blok\n",
    "    return cv2.dilate(image, kernel, iterations=1)\n",
    "def erode(image):\n",
    "    kernel = np.ones((3,3)) # strukturni element 3x3 blok\n",
    "    return cv2.erode(image, kernel, iterations=1)\n",
    "def remove_noise(image):\n",
    "     # strukturni element 3x3 blok\n",
    "    return dilate(erode(image))\n",
    "#Funkcionalnost implementirana u V2\n",
    "def resize_region(region):\n",
    "    resized = cv2.resize(region,(28,28), interpolation = cv2.INTER_NEAREST)\n",
    "    return resized\n",
    "def scale_to_range(image):\n",
    "    return image / 255\n",
    "def matrix_to_vector(image):\n",
    "    return image.flatten()\n",
    "def prepare_for_ann(regions):\n",
    "    ready_for_ann = []\n",
    "    for region in regions:\n",
    "        ready_for_ann.append(matrix_to_vector(scale_to_range(region)))\n",
    "    return ready_for_ann\n",
    "def convert_output(outputs):\n",
    "    return np.eye(len(outputs))\n",
    "def winner(output):\n",
    "    return max(enumerate(output), key=lambda x: x[1])[0]"
   ]
  },
  {
   "cell_type": "code",
   "execution_count": 6,
   "metadata": {
    "collapsed": false,
    "scrolled": false
   },
   "outputs": [],
   "source": [
    "from PIL import Image\n",
    "%matplotlib inline\n",
    "\n",
    "for i in range(0,9):\n",
    "        string='images/capture'+str(i)+'.jpg'\n",
    "        img=cv2.imread(string,0)\n",
    "        imga, contours, hierarchy = cv2.findContours(img.copy(), cv2.RETR_LIST, cv2.CHAIN_APPROX_SIMPLE)\n",
    "        if len(contours)>0:\n",
    "            max_area = -1\n",
    "            for i in range(len(contours)):\n",
    "                cnt=contours[i]\n",
    "                area = cv2.contourArea(cnt)\n",
    "                if(area>max_area):\n",
    "                        max_area=area\n",
    "                        ci=i\n",
    "\n",
    "        cnt=contours[ci]\n",
    "        x,y,w,h = cv2.boundingRect(cnt)\n",
    "        \n",
    "        string='images/capture'+str(i+50)+'.jpg'\n",
    "        img2=img[y:y+h,x:x+h]\n",
    "        cv2.imwrite(string,img2)\n",
    "           "
   ]
  },
  {
   "cell_type": "code",
   "execution_count": null,
   "metadata": {
    "collapsed": true
   },
   "outputs": [],
   "source": []
  }
 ],
 "metadata": {
  "kernelspec": {
   "display_name": "Python 2",
   "language": "python",
   "name": "python2"
  },
  "language_info": {
   "codemirror_mode": {
    "name": "ipython",
    "version": 2
   },
   "file_extension": ".py",
   "mimetype": "text/x-python",
   "name": "python",
   "nbconvert_exporter": "python",
   "pygments_lexer": "ipython2",
   "version": "2.7.11"
  }
 },
 "nbformat": 4,
 "nbformat_minor": 0
}
