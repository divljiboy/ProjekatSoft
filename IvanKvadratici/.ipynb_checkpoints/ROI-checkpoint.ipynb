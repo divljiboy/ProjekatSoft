{
 "cells": [
  {
   "cell_type": "code",
   "execution_count": 117,
   "metadata": {
    "collapsed": false
   },
   "outputs": [],
   "source": [
    "import numpy as np\n",
    "import cv2\n",
    "import time\n",
    "from matplotlib import pyplot as plt\n",
    "from PIL import Image\n",
    "%matplotlib inline\n",
    "kernel = cv2.getStructuringElement(cv2.MORPH_ELLIPSE,(1,1))\n",
    "    \n",
    "#import potrebnih biblioteka\n",
    "\n",
    "import collections\n",
    "\n",
    "# keras\n",
    "from keras.models import Sequential\n",
    "from keras.layers.core import Dense,Activation\n",
    "from keras.optimizers import SGD\n",
    "\n",
    "import matplotlib.pylab as pylab\n",
    "pylab.rcParams['figure.figsize'] = 16, 12 # za prikaz većih slika i plotova, zakomentarisati ako nije potrebno\n",
    "\n",
    "#Funkcionalnost implementirana u V1\n",
    "def load_image(path):\n",
    "    return cv2.cvtColor(cv2.imread(path), cv2.COLOR_BGR2RGB)\n",
    "def image_gray(image):\n",
    "    return cv2.cvtColor(image, cv2.COLOR_RGB2GRAY)\n",
    "def image_bin(image_gs):\n",
    "    ret,image_bin = cv2.threshold(image_gs, 107, 255, cv2.THRESH_BINARY)\n",
    "    return image_bin\n",
    "def invert(image):\n",
    "    return 255-image\n",
    "def display_image(image, color= False):\n",
    "    if color:\n",
    "        plt.imshow(image)\n",
    "    else:\n",
    "        plt.imshow(image, 'gray')\n",
    "def dilate(image):\n",
    "    kernel = np.ones((3,3)) # strukturni element 3x3 blok\n",
    "    return cv2.dilate(image, kernel, iterations=1)\n",
    "def erode(image):\n",
    "    kernel = np.ones((3,3)) # strukturni element 3x3 blok\n",
    "    return cv2.erode(image, kernel, iterations=1)\n",
    "def remove_noise(image):\n",
    "     # strukturni element 3x3 blok\n",
    "    return dilate(erode(image))\n",
    "#Funkcionalnost implementirana u V2\n",
    "def resize_region(region):\n",
    "    resized = cv2.resize(region,(43,60), interpolation = cv2.INTER_NEAREST)\n",
    "    return resized\n",
    "def scale_to_range(image):\n",
    "    return image / 255\n",
    "def matrix_to_vector(image):\n",
    "    return image.flatten()\n",
    "def prepare_for_ann(regions):\n",
    "    ready_for_ann = []\n",
    "    for region in regions:\n",
    "        ready_for_ann.append(matrix_to_vector(scale_to_range(region)))\n",
    "    return ready_for_ann\n",
    "def convert_output(outputs):\n",
    "    return np.eye(len(outputs))\n",
    "def winner(output):\n",
    "    return max(enumerate(output), key=lambda x: x[1])[0]\n"
   ]
  },
  {
   "cell_type": "code",
   "execution_count": null,
   "metadata": {
    "collapsed": false
   },
   "outputs": [],
   "source": []
  },
  {
   "cell_type": "code",
   "execution_count": 118,
   "metadata": {
    "collapsed": true
   },
   "outputs": [],
   "source": [
    "# TODO 7\n",
    "def create_ann():\n",
    "    '''\n",
    "    Implementirati veštačku neuronsku mrežu sa 28x28 ulaznih neurona i jednim skrivenim slojem od 128 neurona.\n",
    "    Odrediti broj izlaznih neurona. Aktivaciona funkcija je sigmoid.\n",
    "    '''\n",
    "    ann = Sequential()\n",
    "    # Postaviti slojeve neurona mreže 'ann'\n",
    "    ann.add(Dense(128, input_dim=43*60, activation='sigmoid')) #128 ,edjusloj i 28*28 ulaz to treba namontirati\n",
    "    ann.add(Dense(42, activation='sigmoid'))\n",
    "    return ann\n",
    "    \n",
    "def train_ann(ann, X_train, y_train):\n",
    "    '''Obucavanje vestacke neuronske mreze'''\n",
    "    X_train = np.array(X_train, np.float32) # dati ulazi\n",
    "    y_train = np.array(y_train, np.float32) # zeljeni izlazi za date ulaze\n",
    "   \n",
    "    # definisanje parametra algoritma za obucavanje\n",
    "    sgd = SGD(lr=0.01, momentum=0.9)\n",
    "    ann.compile(loss='mean_squared_error', optimizer=sgd)\n",
    "\n",
    "    # obucavanje neuronske mreze\n",
    "    ann.fit(X_train, y_train, nb_epoch=3000, batch_size=1, verbose = 0, shuffle=False, show_accuracy = False) \n",
    "      \n",
    "    return ann"
   ]
  },
  {
   "cell_type": "code",
   "execution_count": null,
   "metadata": {
    "collapsed": false
   },
   "outputs": [],
   "source": []
  },
  {
   "cell_type": "code",
   "execution_count": 119,
   "metadata": {
    "collapsed": true
   },
   "outputs": [],
   "source": [
    "def prepare_for_ann(regions):\n",
    "    '''Regioni su matrice dimenzija 200x200 čiji su elementi vrednosti 0 ili 255.\n",
    "        Potrebno je skalirati elemente regiona na [0,1] i transformisati ga u vektor od 40000 elementa '''\n",
    "    ready_for_ann = []\n",
    "    for region in regions:\n",
    "        # skalirati elemente regiona (metoda iz TODO 3 scale_to_range)\n",
    "        # region sa skaliranim elementima pretvoriti u vektor (metoda iz TODO 4 matrix_to_vector)\n",
    "        # vektor dodati u listu spremnih regiona\n",
    "        scale = scale_to_range(region)\n",
    "        ready_for_ann.append(matrix_to_vector(scale))\n",
    "        \n",
    "    return ready_for_ann"
   ]
  },
  {
   "cell_type": "code",
   "execution_count": 120,
   "metadata": {
    "collapsed": true
   },
   "outputs": [],
   "source": [
    "def convert_output(alphabet):\n",
    "    '''Konvertovati alfabet u niz pogodan za obučavanje NM,\n",
    "        odnosno niz čiji su svi elementi 0 osim elementa čiji je\n",
    "        indeks jednak indeksu elementa iz alfabeta za koji formiramo niz.\n",
    "        Primer prvi element iz alfabeta [1,0,0,0,0,0,0,0,0,0],\n",
    "        za drugi [0,1,0,0,0,0,0,0,0,0] itd..\n",
    "    '''\n",
    "    nn_outputs = []\n",
    "    for index in range(len(alphabet)):\n",
    "        output = np.zeros(len(alphabet))\n",
    "        output[index] = 1\n",
    "        nn_outputs.append(output)\n",
    "    return np.array(nn_outputs)"
   ]
  },
  {
   "cell_type": "code",
   "execution_count": 121,
   "metadata": {
    "collapsed": true
   },
   "outputs": [],
   "source": [
    "def winner(output): # output je vektor sa izlaza neuronske mreze\n",
    "    '''pronaći i vratiti indeks neurona koji je najviše pobuđen'''\n",
    "    return max(enumerate(output), key=lambda x: x[1])[0]"
   ]
  },
  {
   "cell_type": "code",
   "execution_count": 122,
   "metadata": {
    "collapsed": true
   },
   "outputs": [],
   "source": [
    "def display_result(outputs, alphabet):\n",
    "    '''za svaki rezultat pronaći indeks pobedničkog\n",
    "        regiona koji ujedno predstavlja i indeks u alfabetu.\n",
    "        Dodati karakter iz alfabet u result'''\n",
    "    result = []\n",
    "    for output in outputs:\n",
    "        result.append(alphabet[winner(output)])\n",
    "    return result"
   ]
  },
  {
   "cell_type": "code",
   "execution_count": 123,
   "metadata": {
    "collapsed": false,
    "scrolled": false
   },
   "outputs": [],
   "source": [
    "\n",
    "\n",
    "#image_color = load_image('images/capture51.jpg')\n",
    "#img = image_bin(image_gray(image_color))\n",
    "\n",
    "#image_color1 = load_image('images/capture52.jpg')\n",
    "#img1 = image_bin(image_gray(image_color1))\n",
    "\n",
    "#image_color2 = load_image('images/capture53.jpg')\n",
    "#img2 = image_bin(image_gray(image_color2))\n",
    "\n",
    "#image_color3 = load_image('images/capture54.jpg')\n",
    "#img3 = image_bin(image_gray(image_color3))\n",
    "\n",
    "#image_color4 = load_image('images/capture55.jpg')\n",
    "#img4 = image_bin(image_gray(image_color4))\n",
    "slike = {}\n",
    "k=0\n",
    "for z in range(0,42):\n",
    "    string='images/capture'+str(z+500)+'.jpg'\n",
    "    img1234=cv2.imread(string,1)\n",
    "    #display_image(img1234)\n",
    "    img = image_bin(image_gray(img1234))\n",
    "    slike[k] = img\n",
    "    k=k+1\n",
    "    \n",
    "    #plt.figure()\n",
    "\n",
    "\n",
    "\n",
    "#slike[1] = img1\n",
    "#slike[2] = img2\n",
    "#slike[3] = img3\n",
    "#slike[4] = img4\n",
    "\n",
    "obucavanje = []\n",
    "sorted_regions_dic = collections.OrderedDict(sorted(slike.items()))\n",
    "obucavanje = sorted_regions_dic.values()\n",
    "\n"
   ]
  },
  {
   "cell_type": "code",
   "execution_count": 124,
   "metadata": {
    "collapsed": false
   },
   "outputs": [],
   "source": [
    "#alphabet = [\"A\",\"A\",\"A\",\"A\",\"A\",\"B\",\"B\",\"B\",\"B\",\"B\",\"B\",\"C\",\"C\",\"C\",\"C\",\"C\",\"D\",\"D\",\"D\",\"D\",\"E\",\"E\",\"E\",\"E\",\"F\",\"F\",\"F\",\"F\",\"F\",\"F\",\"F\",\"G\",\"G\",\"G\",\"G\",\"H\",\"H\",\"H\",\"H\",\"H\",\"I\",\"I\",\"I\",\"I\",\"N\",\"N\",\"N\",\"K\",\"K\",\"K\",\"K\",\"L\",\"L\",\"L\",\"L\",\"L\",\"M\",\"M\",\"M\",\"M\",\" \",\" \",\"O\",\"O\",\"O\",\"P\",\"P\",\"P\",\"P\",\"P\",\"Q\",\"R\",\"R\",\"R\",\"R\",\"R\",\"R\",\"R\",\"S\",\"S\",\"S\",\"S\",\"S\",\"T\",\"T\",\"T\",\"T\",\"T\",\"U\",\"U\",\"U\",\"U\",\"W\",\"W\",\"W\",\"W\",\"W\",\"Y\",\"Y\",\"Y\",\"Y\",]\n",
    "#print len(alphabet)\n",
    "#inputs = prepare_for_ann(obucavanje) \n",
    "#outputs = convert_output(alphabet)\n",
    " \n",
    "#ann = create_ann()\n",
    "#ann = train_ann(ann, inputs, outputs)\n",
    "#ann.save_weights('C:\\Users\\Home\\Desktop\\ProjekatSoft\\IvanKvadratici\\model_weight1.hdf5',overwrite=True)\n",
    "\n",
    "#result = ann.predict(np.array(inputs[:], np.float32))\n",
    "#print result\n",
    "#print display_result(result, alphabet)"
   ]
  },
  {
   "cell_type": "code",
   "execution_count": 125,
   "metadata": {
    "collapsed": false
   },
   "outputs": [],
   "source": [
    "alphabet = [\"a\",\"b\",\"c\",\"d\",\"e\",\"f\",\"g\",\"h\",\"i\",\"k\",\"l\",\"m\",\"n\",\" \",\"p\",\"q\",\"r\",\" \",\"t\",\"z\",\"v\",\"w\",\"y\",\"z\",\"a\",\"p\",\"v\",\"r\",\"r\",\"d\",\"d\",\"q\",\"q\",\"d\",\"d\",\"q\",\"q\",\"y\",\"w\",\"w\",\"y\",\"q\"]\n",
    "#print len(alphabet)\n",
    "#inputs = prepare_for_ann(obucavanje) \n",
    "#outputs = convert_output(alphabet)\n",
    "\n",
    "#ann = create_ann()\n",
    "#ann = train_ann(ann, inputs, outputs)\n",
    "#ann.save_weights('C:\\Users\\Home\\Desktop\\ProjekatSoft\\IvanKvadratici\\model_weight1.hdf5',overwrite=True)\n",
    "\n",
    "#result = ann.predict(np.array(inputs[:], np.float32))\n",
    "#print result\n",
    "#print display_result(result, alphabet)"
   ]
  },
  {
   "cell_type": "code",
   "execution_count": 126,
   "metadata": {
    "collapsed": false
   },
   "outputs": [],
   "source": [
    "ann= create_ann()\n",
    "ann.load_weights('C:\\Users\\Home\\Desktop\\ProjekatSoft\\IvanKvadratici\\model_weight1.hdf5')\n",
    "ann.compile(loss='categorical_crossentropy', optimizer='sgd')\n",
    "result = ann.predict(np.array(prepare_for_ann(obucavanje)[:], np.float32))\n",
    "#print result\n",
    "#print display_result(result, alphabet)"
   ]
  },
  {
   "cell_type": "code",
   "execution_count": 127,
   "metadata": {
    "collapsed": false
   },
   "outputs": [],
   "source": [
    "import re, collections\n",
    "\n",
    "def words123(text): return re.findall('[a-z]+', text.lower()) \n",
    "\n",
    "def train123(features):\n",
    "    model = collections.defaultdict(lambda: 1)\n",
    "    for f in features:\n",
    "        model[f] += 1\n",
    "    return model\n",
    "\n",
    "NWORDS = train123(words123(file('C:/Users/Home/Desktop/ProjekatSoft/IvanKvadratici/images/big.txt').read()))\n",
    "\n",
    "alphabet123 = 'abcdefghijklmnopqrstuvwxyz'\n",
    "\n",
    "def edits1(word):\n",
    "    splits     = [(word[:i], word[i:]) for i in range(len(word) + 1)]\n",
    "    deletes    = [a + b[1:] for a, b in splits if b]\n",
    "    transposes = [a + b[1] + b[0] + b[2:] for a, b in splits if len(b)>1]\n",
    "    replaces   = [a + c + b[1:] for a, b in splits for c in alphabet123 if b]\n",
    "    inserts    = [a + c + b     for a, b in splits for c in alphabet123]\n",
    "    return set(deletes + transposes + replaces + inserts)\n",
    "\n",
    "def known_edits2(word):\n",
    "    return set(e2 for e1 in edits1(word) for e2 in edits1(e1) if e2 in NWORDS)\n",
    "\n",
    "def known(words): return set(w for w in words if w in NWORDS)\n",
    "\n",
    "def correct(word):\n",
    "    candidates = known([word]) or known(edits1(word)) or known_edits2(word) or [word]\n",
    "    return max(candidates, key=NWORDS.get)"
   ]
  },
  {
   "cell_type": "code",
   "execution_count": null,
   "metadata": {
    "collapsed": true
   },
   "outputs": [],
   "source": []
  },
  {
   "cell_type": "code",
   "execution_count": 129,
   "metadata": {
    "collapsed": false,
    "scrolled": true
   },
   "outputs": [],
   "source": [
    "import cv2\n",
    "import numpy as np\n",
    "import math\n",
    "cap = cv2.VideoCapture(0)\n",
    "plavo=41\n",
    "ci=0\n",
    "tekst=['bla']\n",
    "rec=[]\n",
    "flag=False\n",
    "br=0\n",
    "brojac=0\n",
    "while(cap.isOpened()):\n",
    "    ret, img = cap.read()\n",
    "    cv2.rectangle(img,(300,300),(100,100),(0,255,0),0)\n",
    "    crop_img = img[100:300, 100:300]\n",
    "    \n",
    "    slika=remove_noise(image_bin(image_gray(crop_img)))\n",
    "    \n",
    "    imga, contours, hierarchy = cv2.findContours(invert(slika.copy()), cv2.RETR_LIST, cv2.CHAIN_APPROX_SIMPLE)\n",
    "    if len(contours)>0:\n",
    "            max_area = -1\n",
    "            for i in range(len(contours)):\n",
    "                cnt=contours[i]\n",
    "                area = cv2.contourArea(cnt)\n",
    "                if(area>max_area):\n",
    "                        max_area=area\n",
    "                        ci=i\n",
    "\n",
    "            cnt=contours[ci]\n",
    "            x,y,w,h = cv2.boundingRect(cnt)\n",
    "            cv2.rectangle(crop_img,(x,y),(x+w,y+h),(0,0,255),0)\n",
    "            borko=resize_region(slika[y:y+h,x:x+w])\n",
    "    else:\n",
    "        borko=slika[0:43,0:60]\n",
    "    \n",
    "    \n",
    "    k = cv2.waitKey(10)\n",
    "    if k == 32:\n",
    "        string='images/capture'+str(plavo)+'.jpg'\n",
    "        cv2.imwrite(string,slika)\n",
    "        plavo=plavo+1\n",
    "        #break\n",
    "    \n",
    "\n",
    "    cv2.imshow(\"slika krop\",crop_img)\n",
    "    cv2.imshow(\"slika kont\",imga)\n",
    "    \n",
    "    cv2.imshow(\"slika koqwqeqw\",borko)\n",
    "    \n",
    "    cv2.imshow(\"slika treshhold\",slika)\n",
    "    s={}\n",
    "    s[0] = borko\n",
    "    \n",
    "    \n",
    "    \n",
    "    o = s.values()\n",
    "    inputs_test = prepare_for_ann(o)\n",
    "    results_test = ann.predict(np.array(inputs_test, np.float32))\n",
    "    #print results_test\n",
    "    bla=np.array(results_test[0])\n",
    "    \n",
    "        \n",
    "    if (max(bla)>0.45)&(flag==False):\n",
    "        \n",
    "        tekst.append(display_result(results_test,alphabet)[0])\n",
    "        \n",
    "        if (tekst[-2]==tekst[-1]):\n",
    "            brojac=brojac+1\n",
    "            if (brojac<40):\n",
    "                \n",
    "                \n",
    "                tekst.append(display_result(results_test,alphabet)[0])\n",
    "                cv2.putText(img,\":\"+str(display_result(results_test,alphabet)[0])+\":\", (50,50), cv2.FONT_HERSHEY_SIMPLEX, 2, 2)\n",
    "                \n",
    "            elif brojac==40:\n",
    "                rec.append(display_result(results_test,alphabet)[0])\n",
    "                \n",
    "                if rec[-1]==\" \":\n",
    "                    word= \"\".join(str(x) for x in rec)\n",
    "                \n",
    "                    recnik=correct(word)\n",
    "                    rec=[]\n",
    "                    flag=True\n",
    "                    \n",
    "                    \n",
    "           \n",
    "            elif (brojac>=40)&(brojac<70):\n",
    "                cv2.putText(img,\"Prepoznao sam\"+\" \"+str(display_result(results_test,alphabet)[0]), (50,50), cv2.FONT_HERSHEY_SIMPLEX, 2, 2)\n",
    "            else\n",
    "                \n",
    "                brojac=0\n",
    "                tekst=[]\n",
    "                tekst.append(display_result(results_test,alphabet)[0])\n",
    "                \n",
    "                    \n",
    "                    \n",
    "            \n",
    "        \n",
    "        else:\n",
    "            brojac=0\n",
    "            tekst=[]\n",
    "            tekst.append(display_result(results_test,alphabet)[0])\n",
    "        #print display_result(results_test,alphabet)\n",
    "    else:\n",
    "        cv2.putText(img,\"\", (50,50), cv2.FONT_HERSHEY_SIMPLEX, 2, 2)\n",
    "    if flag==True:\n",
    "            br=br+1\n",
    "            if br<30:\n",
    "                cv2.putText(img,\"Rec je \"+str(recnik), (50,50), cv2.FONT_HERSHEY_SIMPLEX, 1, 2)\n",
    "            else:\n",
    "                br=0\n",
    "                flag=False\n",
    "    \n",
    "    \n",
    "    cv2.imshow(\"slika\",img)\n",
    "    \n",
    "    k = cv2.waitKey(10)\n",
    "    if k == 27:\n",
    "        break\n",
    "# When everything done, release the capture\n",
    "cap.release()\n",
    "cv2.destroyAllWindows()\n",
    "#print rec"
   ]
  },
  {
   "cell_type": "code",
   "execution_count": null,
   "metadata": {
    "collapsed": true
   },
   "outputs": [],
   "source": []
  },
  {
   "cell_type": "code",
   "execution_count": null,
   "metadata": {
    "collapsed": true
   },
   "outputs": [],
   "source": []
  },
  {
   "cell_type": "code",
   "execution_count": null,
   "metadata": {
    "collapsed": true
   },
   "outputs": [],
   "source": []
  }
 ],
 "metadata": {
  "kernelspec": {
   "display_name": "Python 2",
   "language": "python",
   "name": "python2"
  },
  "language_info": {
   "codemirror_mode": {
    "name": "ipython",
    "version": 2
   },
   "file_extension": ".py",
   "mimetype": "text/x-python",
   "name": "python",
   "nbconvert_exporter": "python",
   "pygments_lexer": "ipython2",
   "version": "2.7.11"
  }
 },
 "nbformat": 4,
 "nbformat_minor": 0
}
